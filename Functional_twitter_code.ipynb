{
  "cells": [
    {
      "cell_type": "markdown",
      "metadata": {
        "id": "view-in-github",
        "colab_type": "text"
      },
      "source": [
        "<a href=\"https://colab.research.google.com/github/OndwelaT/OndwelaT.github.io/blob/main/Functional_twitter_code.ipynb\" target=\"_parent\"><img src=\"https://colab.research.google.com/assets/colab-badge.svg\" alt=\"Open In Colab\"/></a>"
      ]
    },
    {
      "cell_type": "code",
      "execution_count": null,
      "metadata": {
        "colab": {
          "base_uri": "https://localhost:8080/"
        },
        "id": "lDSV-LjLoXJt",
        "outputId": "42316e02-9206-4080-b40a-3b658ff424d9"
      },
      "outputs": [
        {
          "output_type": "stream",
          "name": "stdout",
          "text": [
            "Requirement already satisfied: requests-oauthlib in /usr/local/lib/python3.10/dist-packages (1.3.1)\n",
            "Requirement already satisfied: oauthlib>=3.0.0 in /usr/local/lib/python3.10/dist-packages (from requests-oauthlib) (3.2.2)\n",
            "Requirement already satisfied: requests>=2.0.0 in /usr/local/lib/python3.10/dist-packages (from requests-oauthlib) (2.32.3)\n",
            "Requirement already satisfied: charset-normalizer<4,>=2 in /usr/local/lib/python3.10/dist-packages (from requests>=2.0.0->requests-oauthlib) (3.3.2)\n",
            "Requirement already satisfied: idna<4,>=2.5 in /usr/local/lib/python3.10/dist-packages (from requests>=2.0.0->requests-oauthlib) (3.10)\n",
            "Requirement already satisfied: urllib3<3,>=1.21.1 in /usr/local/lib/python3.10/dist-packages (from requests>=2.0.0->requests-oauthlib) (2.0.7)\n",
            "Requirement already satisfied: certifi>=2017.4.17 in /usr/local/lib/python3.10/dist-packages (from requests>=2.0.0->requests-oauthlib) (2024.8.30)\n"
          ]
        }
      ],
      "source": [
        "%pip install requests-oauthlib"
      ]
    },
    {
      "cell_type": "code",
      "execution_count": null,
      "metadata": {
        "id": "Wn-URTj2pLtZ"
      },
      "outputs": [],
      "source": [
        "import json\n",
        "import os\n",
        "import requests\n",
        "from glob import glob as glob\n",
        "import shutil\n",
        "from google.colab import files\n",
        "import re\n",
        "import pandas as pd"
      ]
    },
    {
      "cell_type": "code",
      "execution_count": null,
      "metadata": {
        "id": "TcDFZ_jOpmfd"
      },
      "outputs": [],
      "source": [
        "bearer_token = \"AAAAAAAAAAAAAAAAAAAAAFLqvAEAAAAAgQzczeKNfPrpbeQXv24BD%2F4ARLM%3DzbFNZWVYczIe5h8HZpDdd924QqrvIC0v5gCjFn8D8Y8QazqGa7\"\n",
        "search_url = \"https://api.twitter.com/2/tweets/search/recent\""
      ]
    },
    {
      "cell_type": "code",
      "execution_count": null,
      "metadata": {
        "id": "wLDu3Vmjp2hI"
      },
      "outputs": [],
      "source": [
        "#query_params = {\n",
        " #   'query': 'water supply KZN -is:retweet',\n",
        " #   'tweet.fields': 'author_id',\n",
        " #   'max_results': 100}\n",
        "\n"
      ]
    },
    {
      "cell_type": "code",
      "execution_count": null,
      "metadata": {
        "id": "u0VIzkqvqvsk"
      },
      "outputs": [],
      "source": [
        "def bearer_oauth(r):\n",
        "    r.headers[\"Authorization\"] = f\"Bearer {bearer_token}\"\n",
        "    r.headers[\"User-Agent\"] = \"v2RecentSearchPython\"\n",
        "    return r"
      ]
    },
    {
      "cell_type": "code",
      "execution_count": null,
      "metadata": {
        "id": "6aPVOGkztR6v"
      },
      "outputs": [],
      "source": [
        "def connect_to_endpoint(url, params):\n",
        "    response = requests.get(url, auth=bearer_oauth, params=params)\n",
        "    print(response.status_code)\n",
        "    if response.status_code != 200:\n",
        "        raise Exception(response.status_code, response.text)\n",
        "    return response.json()"
      ]
    },
    {
      "cell_type": "code",
      "execution_count": null,
      "metadata": {
        "id": "mULO-d3AzfrP"
      },
      "outputs": [],
      "source": [
        "def save(data, file_path):\n",
        "    with open(file_path, 'w') as file:\n",
        "        json.dump(data, file, indent=4)"
      ]
    },
    {
      "cell_type": "code",
      "execution_count": null,
      "metadata": {
        "id": "CQ8ER6m-vShC"
      },
      "outputs": [],
      "source": [
        "#def main():\n",
        " #   json_response = connect_to_endpoint(search_url, query_params)\n",
        " #   print(json.dumps(json_response, indent=4, sort_keys=True))\n",
        "\n",
        " #   save(json_response, 'twitter_data.json')\n",
        " #   print(\"Data saved to twitter_data.json\")"
      ]
    },
    {
      "cell_type": "code",
      "execution_count": null,
      "metadata": {
        "id": "d4AuWmB2Fxh_"
      },
      "outputs": [],
      "source": [
        "def main():\n",
        "    max_results = 1000\n",
        "    tweets = []\n",
        "    next_token = None\n",
        "\n",
        "    while len(tweets) < max_results:\n",
        "        query_params = {\n",
        "            'query': 'Water quality  South Africa -is:retweet',\n",
        "            'tweet.fields': 'author_id',\n",
        "            'max_results': 100\n",
        "        }\n",
        "\n",
        "        if next_token:\n",
        "            query_params['next_token'] = next_token\n",
        "\n",
        "        json_response = connect_to_endpoint(search_url, query_params)\n",
        "        tweets.extend(json_response.get('data', []))\n",
        "\n",
        "        if 'meta' in json_response and 'next_token' in json_response['meta']:\n",
        "            next_token = json_response['meta']['next_token']\n",
        "        else:\n",
        "            break\n",
        "\n",
        "\n",
        "    print(f\"Obtained {len(tweets)} tweets\")\n",
        "\n",
        "    save({\"data\": tweets}, 'twitter_data.json')\n",
        "    print(\"Data saved to twitter_data.json\")"
      ]
    },
    {
      "cell_type": "code",
      "execution_count": null,
      "metadata": {
        "colab": {
          "base_uri": "https://localhost:8080/"
        },
        "id": "AHPX1oRhvXC_",
        "outputId": "a1914603-38a7-4c25-a858-ca56e219d84c"
      },
      "outputs": [
        {
          "output_type": "stream",
          "name": "stdout",
          "text": [
            "200\n",
            "Obtained 2 tweets\n",
            "Data saved to twitter_data.json\n"
          ]
        }
      ],
      "source": [
        "if __name__ == \"__main__\":\n",
        "    main()"
      ]
    },
    {
      "cell_type": "markdown",
      "metadata": {
        "id": "hMblX1pZ-O-C"
      },
      "source": [
        "loading the datasets"
      ]
    },
    {
      "cell_type": "code",
      "execution_count": null,
      "metadata": {
        "colab": {
          "base_uri": "https://localhost:8080/"
        },
        "id": "XfhLXFv-_6E0",
        "outputId": "cce820f4-375e-4a7e-a6ea-6aa14cfce8a9"
      },
      "outputs": [
        {
          "output_type": "stream",
          "name": "stdout",
          "text": [
            "Directory created.\n"
          ]
        }
      ],
      "source": [
        "directory_path = \"/content/twitter_data_directory\"\n",
        "os.makedirs(directory_path, exist_ok = True)\n",
        "\n",
        "if os.path.exists(directory_path):\n",
        "    print(\"Directory created.\")\n",
        "else:\n",
        "    print(\"Directory could not be created.\")"
      ]
    },
    {
      "cell_type": "code",
      "execution_count": null,
      "metadata": {
        "id": "Z2J7dX8mPHOC"
      },
      "outputs": [],
      "source": [
        "#files to be stored saved into a list\n",
        "files = [\"/content/twitter_data.json\"]\n",
        "\n",
        "twitter_data = []\n",
        "for file_paths in files:\n",
        "  with open(file_paths, \"r\") as file:\n",
        "    data = json.load(file)\n",
        "    twitter_data.append(data)"
      ]
    },
    {
      "cell_type": "markdown",
      "metadata": {
        "id": "1sVUzheswONX"
      },
      "source": [
        "convert json files into excel"
      ]
    },
    {
      "cell_type": "code",
      "execution_count": null,
      "metadata": {
        "colab": {
          "base_uri": "https://localhost:8080/"
        },
        "id": "b80yYG6HPkNf",
        "outputId": "bb8f2d3e-f1cd-4158-addb-df465d2c5599"
      },
      "outputs": [
        {
          "output_type": "stream",
          "name": "stdout",
          "text": [
            "JSON files have been merged\n"
          ]
        }
      ],
      "source": [
        "merged_data_file = \"twitter_merged_data.json\"\n",
        "\n",
        "with open(merged_data_file, \"w\") as file:\n",
        "  json.dump(twitter_data, file, indent = 4)\n",
        "\n",
        "print(\"JSON files have been merged\")"
      ]
    },
    {
      "cell_type": "code",
      "execution_count": null,
      "metadata": {
        "colab": {
          "base_uri": "https://localhost:8080/"
        },
        "id": "WvcFsDOK4v5q",
        "outputId": "9ff0aaa8-aa95-4796-a6f5-6accdb0be83c"
      },
      "outputs": [
        {
          "output_type": "stream",
          "name": "stdout",
          "text": [
            "file loaded\n"
          ]
        }
      ],
      "source": [
        "#load data\n",
        "with open(\"twitter_merged_data.json\") as file:\n",
        "  uncleaned_data = json.load(file)\n",
        "  print(\"file loaded\")"
      ]
    },
    {
      "cell_type": "code",
      "execution_count": null,
      "metadata": {
        "colab": {
          "base_uri": "https://localhost:8080/"
        },
        "id": "_dj7-tyjC27D",
        "outputId": "f990cb88-aeb7-458c-e664-23335e9eff5a"
      },
      "outputs": [
        {
          "output_type": "execute_result",
          "data": {
            "text/plain": [
              "[{'data': [{'id': '1837069194917232946',\n",
              "    'edit_history_tweet_ids': ['1837069194917232946'],\n",
              "    'author_id': '1411990690779865089',\n",
              "    'text': 'South Africa is a water scarce country. In other words it has an excess of demand over available supply. It also has low water security – the ability to ensure sustainable access to good quality water. #AfricanInsider \\nhttps://t.co/pqTNEj2JhD'},\n",
              "   {'id': '1837008790333313366',\n",
              "    'edit_history_tweet_ids': ['1837008790333313366'],\n",
              "    'author_id': '2906219303',\n",
              "    'text': '[South Africa] The lack of effective management at sewage plants has led to deteriorating water quality and increased pressure on municipalities. At Harmony, we are committed to mining with purpose, and creating value for all stakeholders. \\n#MiningWithPurpose https://t.co/gH5iQdHbck'}]}]"
            ]
          },
          "metadata": {},
          "execution_count": 60
        }
      ],
      "source": [
        "json_data = uncleaned_data\n",
        "json_data"
      ]
    },
    {
      "cell_type": "code",
      "execution_count": null,
      "metadata": {
        "colab": {
          "base_uri": "https://localhost:8080/"
        },
        "id": "VsPgYXOLEKVt",
        "outputId": "8240993b-863c-4f33-e426-1389da766806"
      },
      "outputs": [
        {
          "output_type": "stream",
          "name": "stdout",
          "text": [
            "[['1411990690779865089', 'South Africa is a water scarce country. In other words it has an excess of demand over available supply. It also has low water security – the ability to ensure sustainable access to good quality water. #AfricanInsider \\nhttps://t.co/pqTNEj2JhD', '1837069194917232946', ['1837069194917232946']], ['2906219303', '[South Africa] The lack of effective management at sewage plants has led to deteriorating water quality and increased pressure on municipalities. At Harmony, we are committed to mining with purpose, and creating value for all stakeholders. \\n#MiningWithPurpose https://t.co/gH5iQdHbck', '1837008790333313366', ['1837008790333313366']]]\n"
          ]
        }
      ],
      "source": [
        "df_columns = [\"author_id\", \"text\", \"id\",\"edit_history_tweet_ids\"]\n",
        "\n",
        "extract_data = []\n",
        "\n",
        "for inner_dict in json_data[0][\"data\"]:\n",
        "    extract_data.append([inner_dict[column] for column in df_columns])\n",
        "\n",
        "print(extract_data)"
      ]
    },
    {
      "cell_type": "code",
      "execution_count": null,
      "metadata": {
        "id": "KBUjyC1-F4AR"
      },
      "outputs": [],
      "source": [
        "#sort out data befor preprocessing\n",
        "df = pd.DataFrame(extract_data, columns = df_columns)\n",
        "\n",
        "excel_file_path = \"/content/data_to_sort.xlsx\"\n",
        "\n",
        "df.to_excel(excel_file_path, index = False)\n",
        "\n"
      ]
    }
  ],
  "metadata": {
    "colab": {
      "provenance": [],
      "include_colab_link": true
    },
    "kernelspec": {
      "display_name": "Python 3",
      "name": "python3"
    },
    "language_info": {
      "name": "python"
    }
  },
  "nbformat": 4,
  "nbformat_minor": 0
}